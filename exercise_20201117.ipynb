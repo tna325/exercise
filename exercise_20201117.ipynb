{
  "nbformat": 4,
  "nbformat_minor": 0,
  "metadata": {
    "colab": {
      "name": "exercise_20201117.ipynb のコピー",
      "provenance": [],
      "include_colab_link": true
    },
    "kernelspec": {
      "name": "python3",
      "display_name": "Python 3"
    }
  },
  "cells": [
    {
      "cell_type": "markdown",
      "metadata": {
        "id": "view-in-github",
        "colab_type": "text"
      },
      "source": [
        "<a href=\"https://colab.research.google.com/github/tna325/exercise/blob/main/exercise_20201117.ipynb\" target=\"_parent\"><img src=\"https://colab.research.google.com/assets/colab-badge.svg\" alt=\"Open In Colab\"/></a>"
      ]
    },
    {
      "cell_type": "markdown",
      "metadata": {
        "id": "dD2Bkd3nuNz-"
      },
      "source": [
        "### 課題1.\n",
        "入力された自然数の素因数分解を行うプログラムの作成"
      ]
    },
    {
      "cell_type": "code",
      "metadata": {
        "id": "QvUEFhY3eu7B",
        "colab": {
          "base_uri": "https://localhost:8080/"
        },
        "outputId": "63b62415-c18f-47d3-a1e2-f2d05b2f31e4"
      },
      "source": [
        "def calc(n):\n",
        "    a = []\n",
        "    f = 2\n",
        "    while f <= n:\n",
        "        if n % f == 0:#同じ数字で繰り返し割る\n",
        "            a.append(f)\n",
        "            n=int(n / f)#割った結果を代入\n",
        "        else:#割れなくなったら次の数字へ\n",
        "            f += 1\n",
        "    return a\n",
        "\n",
        "\n",
        "X = int(input(\">>\"))\n",
        "print(calc(X))"
      ],
      "execution_count": 6,
      "outputs": [
        {
          "output_type": "stream",
          "text": [
            ">>12\n",
            "[2, 2, 3]\n"
          ],
          "name": "stdout"
        }
      ]
    },
    {
      "cell_type": "code",
      "metadata": {
        "id": "tB012EkyvlMm"
      },
      "source": [
        "\n",
        "\n"
      ],
      "execution_count": null,
      "outputs": []
    },
    {
      "cell_type": "markdown",
      "metadata": {
        "id": "rVvaZooMuOcO"
      },
      "source": [
        "### 課題2.\n",
        "入力された自然数以下の素数を書き出すプログラム\\\n",
        "または、入力された自然数の素数判定をするプログラム　の作成"
      ]
    },
    {
      "cell_type": "code",
      "metadata": {
        "id": "dwUvMCxWuO7Z",
        "colab": {
          "base_uri": "https://localhost:8080/"
        },
        "outputId": "832138a9-8e24-4f89-f59e-5b8df0373b10"
      },
      "source": [
        "m = int(input(\">>\"))\n",
        "xs = calc(m)\n",
        "if xs == [m]:\n",
        "  print(\"Yes\")\n",
        "else:\n",
        "  print(\"no\")"
      ],
      "execution_count": 7,
      "outputs": [
        {
          "output_type": "stream",
          "text": [
            ">>7\n",
            "[7]\n",
            "Yes\n"
          ],
          "name": "stdout"
        }
      ]
    },
    {
      "cell_type": "code",
      "metadata": {
        "id": "f3hXMFsFvmal"
      },
      "source": [
        ""
      ],
      "execution_count": null,
      "outputs": []
    },
    {
      "cell_type": "markdown",
      "metadata": {
        "id": "B0cYkK4BuPGo"
      },
      "source": [
        "### 課題3.\n",
        "入力された10進数の数字を、別に入力された数字のn進数へと変換するプログラムの作成"
      ]
    },
    {
      "cell_type": "code",
      "metadata": {
        "id": "s7U4wIxVuPON"
      },
      "source": [
        "n = input(\">>\")\n",
        "m = input(\">>\")\n",
        "n = int(n)\n",
        "m = int(m)\n"
      ],
      "execution_count": null,
      "outputs": []
    },
    {
      "cell_type": "code",
      "metadata": {
        "id": "tpwnkDeJvmx9"
      },
      "source": [
        ""
      ],
      "execution_count": null,
      "outputs": []
    },
    {
      "cell_type": "markdown",
      "metadata": {
        "id": "fvOXDs1uuPTl"
      },
      "source": [
        "### 課題4.\n",
        "自然対数の底（ネイピア数）$e$　または、円周率$\\pi$　の近似値を計算するプログラムの作成\\\n",
        "その際、積み残し誤差の比較ができるような２通り以上の計算を実装すること\n",
        "\n",
        "\n",
        "\\\n",
        "$e$の定義\\\n",
        "$\n",
        "\\displaystyle\n",
        "e = \\lim_{x \\to 0}\\left(1 + x\\right)^{\\left(\\dfrac{1}{x}\\right)} = \\lim_{x \\to \\infty}\\left(1 + \\dfrac{1}{x}\\right)^{x}\n",
        "$\n",
        "\n",
        "\n",
        "\\\n",
        "$\\pi$の計算式の一例\\\n",
        "$\n",
        "\\displaystyle\n",
        "\\dfrac{\\pi}{4} = \\sum_{n = 0}^{\\infty} \\dfrac{\\left(-1\\right)^n}{2n + 1}\\\\\n",
        "\\displaystyle\n",
        "\\dfrac{{\\pi}^2}{6} = \\sum_{n = 1}^{\\infty} \\dfrac{1}{n^2}\\\\\n",
        "$"
      ]
    },
    {
      "cell_type": "code",
      "metadata": {
        "id": "CJBWMx5guPcq",
        "outputId": "ae993642-27e8-4bbb-8894-8883684380c2",
        "colab": {
          "base_uri": "https://localhost:8080/"
        }
      },
      "source": [
        "def calcpi(x):\n",
        "  n = 0\n",
        "  pi = 0\n",
        "  while n <= x:\n",
        "    l = 4+(-1)**n\n",
        "    m = 2*n-1\n",
        "    pi += l/m\n",
        "    #print(str(l),str(m))\n",
        "    n += 1\n",
        "  return pi\n",
        "x = int(input(\">>\"))\n",
        "print(calcpi(x))"
      ],
      "execution_count": 27,
      "outputs": [
        {
          "output_type": "stream",
          "text": [
            ">>100\n",
            "7.3544705313169\n"
          ],
          "name": "stdout"
        }
      ]
    },
    {
      "cell_type": "code",
      "metadata": {
        "id": "0JAZ0z_RvnCw"
      },
      "source": [
        ""
      ],
      "execution_count": null,
      "outputs": []
    }
  ]
}